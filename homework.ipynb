{
  "cells": [
    {
      "cell_type": "markdown",
      "metadata": {
        "id": "BZ2e2urNGRlX"
      },
      "source": [
        "# DX 602 Week 6 Homework\n",
        "\n",
        "\n",
        "\n",
        "\n"
      ]
    },
    {
      "cell_type": "markdown",
      "metadata": {
        "id": "QtYf9zoaKS8l"
      },
      "source": [
        "## Introduction\n",
        "\n",
        "Practice is a large part of becoming fluent in a programming language.\n",
        "In this module, you will be assigned regular coding homework to practice Python.\n",
        "If these problems seem too easy to you, try to answer them faster, and make sure to check the auto-grader feedback to confirm the correctness of your answers.\n",
        "Like with spoken languages, fluency (speed) is highly correlated with proficiency.\n",
        "But it is important to answer the problems correctly first, then quickly.\n"
      ]
    },
    {
      "cell_type": "markdown",
      "metadata": {},
      "source": [
        "## Example Code\n",
        "\n",
        "You may find it helpful to refer to this GitHub repository of Jupyter notebooks for example code.\n",
        "\n",
        "* https://github.com/bu-cds-omds/dx602-examples\n",
        "\n",
        "Any calculations demonstrated in code examples or videos may be found in these notebooks, and you are allowed to copy this example code in your homework answers."
      ]
    },
    {
      "cell_type": "markdown",
      "metadata": {},
      "source": [
        "## Shared Imports\n",
        "\n",
        "Do not install or use any additional modules.\n",
        "Installing additional modules may result in an autograder failure resulting in zero points for some or all problems."
      ]
    },
    {
      "cell_type": "code",
      "execution_count": 1,
      "metadata": {},
      "outputs": [],
      "source": [
        "import math\n",
        "import sys\n",
        "\n",
        "import matplotlib.pyplot as plt\n",
        "import numpy as np"
      ]
    },
    {
      "cell_type": "markdown",
      "metadata": {
        "id": "wLVn9uBNTCMe"
      },
      "source": [
        "## Problems"
      ]
    },
    {
      "cell_type": "markdown",
      "metadata": {},
      "source": [
        "### Problem 1\n",
        "\n",
        "Set `p1` to the sum of the values in `q1`."
      ]
    },
    {
      "cell_type": "code",
      "execution_count": 2,
      "metadata": {},
      "outputs": [],
      "source": [
        "# DO NOT CHANGE\n",
        "\n",
        "q1 = np.array([[[ 0.98000311, -0.35956482,  1.00232898, -1.45209838],\n",
        "        [-0.67175911, -0.84953269,  0.10704931,  0.41754274],\n",
        "        [ 0.53522584, -1.55733964, -1.03784553, -0.23711248]],\n",
        "       [[ 0.16800128, -2.28326782,  0.67403402, -0.06765582],\n",
        "        [-0.61726066, -0.35678495, -0.87902535, -1.7904995 ],\n",
        "        [ 1.41477031,  1.24684156, -0.23343696,  0.88934047]]])"
      ]
    },
    {
      "cell_type": "code",
      "execution_count": 8,
      "metadata": {},
      "outputs": [],
      "source": [
        "# YOUR CHANGES HERE\n",
        "\n",
        "p1 = np.sum(q1)"
      ]
    },
    {
      "cell_type": "code",
      "execution_count": 9,
      "metadata": {},
      "outputs": [
        {
          "data": {
            "text/plain": [
              "np.float64(-4.95804609)"
            ]
          },
          "execution_count": 9,
          "metadata": {},
          "output_type": "execute_result"
        }
      ],
      "source": [
        "p1"
      ]
    },
    {
      "cell_type": "markdown",
      "metadata": {
        "id": "8F17H4qQTEW8"
      },
      "source": [
        "### Problem 2\n",
        "\n",
        "Write a function `p2` taking an array as input, and returning an array of the same shape with each value squared."
      ]
    },
    {
      "cell_type": "code",
      "execution_count": 10,
      "metadata": {
        "id": "cVTKqmslTHYC"
      },
      "outputs": [],
      "source": [
        "# YOUR CHANGES HERE\n",
        "\n",
        "def p2(a):\n",
        "    return a ** 2"
      ]
    },
    {
      "cell_type": "code",
      "execution_count": 11,
      "metadata": {},
      "outputs": [
        {
          "data": {
            "text/plain": [
              "array([0, 1, 2, 3, 4, 5, 6, 7, 8, 9])"
            ]
          },
          "execution_count": 11,
          "metadata": {},
          "output_type": "execute_result"
        }
      ],
      "source": [
        "p2_test_1 = np.arange(10)\n",
        "p2_test_1"
      ]
    },
    {
      "cell_type": "code",
      "execution_count": 12,
      "metadata": {},
      "outputs": [
        {
          "data": {
            "text/plain": [
              "array([ 0,  1,  4,  9, 16, 25, 36, 49, 64, 81])"
            ]
          },
          "execution_count": 12,
          "metadata": {},
          "output_type": "execute_result"
        }
      ],
      "source": [
        "p2(p2_test_1)"
      ]
    },
    {
      "cell_type": "code",
      "execution_count": 13,
      "metadata": {},
      "outputs": [
        {
          "data": {
            "text/plain": [
              "array([[0, 1],\n",
              "       [2, 3],\n",
              "       [4, 5],\n",
              "       [6, 7],\n",
              "       [8, 9]])"
            ]
          },
          "execution_count": 13,
          "metadata": {},
          "output_type": "execute_result"
        }
      ],
      "source": [
        "p2_test_2 = p2_test_1.reshape(5, 2)\n",
        "p2_test_2"
      ]
    },
    {
      "cell_type": "code",
      "execution_count": 14,
      "metadata": {},
      "outputs": [
        {
          "data": {
            "text/plain": [
              "array([[ 0,  1],\n",
              "       [ 4,  9],\n",
              "       [16, 25],\n",
              "       [36, 49],\n",
              "       [64, 81]])"
            ]
          },
          "execution_count": 14,
          "metadata": {},
          "output_type": "execute_result"
        }
      ],
      "source": [
        "p2(p2_test_2)"
      ]
    },
    {
      "cell_type": "markdown",
      "metadata": {
        "id": "BQL1Gh8TTJMQ"
      },
      "source": [
        "### Problem 3\n",
        "\n",
        "Write a function `p3` taking in input $n$, an integer, and creating an array whose contents are $0^2, 1^2, 2^2, \\ldots, (n-1)^2$."
      ]
    },
    {
      "cell_type": "markdown",
      "metadata": {
        "id": "_1IZ-zbdTTg0"
      },
      "source": [
        "Hint: Start from `np.arange`."
      ]
    },
    {
      "cell_type": "code",
      "execution_count": 21,
      "metadata": {
        "id": "t-q36ilOTW69"
      },
      "outputs": [],
      "source": [
        "# YOUR CHANGES HERE\n",
        "\n",
        "def p3(n):\n",
        "    return np.arange(n) ** 2"
      ]
    },
    {
      "cell_type": "code",
      "execution_count": 22,
      "metadata": {},
      "outputs": [
        {
          "data": {
            "text/plain": [
              "array([ 0,  1,  4,  9, 16])"
            ]
          },
          "execution_count": 22,
          "metadata": {},
          "output_type": "execute_result"
        }
      ],
      "source": [
        "p3(5)"
      ]
    },
    {
      "cell_type": "code",
      "execution_count": 23,
      "metadata": {},
      "outputs": [
        {
          "data": {
            "text/plain": [
              "array([0])"
            ]
          },
          "execution_count": 23,
          "metadata": {},
          "output_type": "execute_result"
        }
      ],
      "source": [
        "p3(1)"
      ]
    },
    {
      "cell_type": "code",
      "execution_count": 24,
      "metadata": {},
      "outputs": [
        {
          "data": {
            "text/plain": [
              "array([], dtype=int64)"
            ]
          },
          "execution_count": 24,
          "metadata": {},
          "output_type": "execute_result"
        }
      ],
      "source": [
        "p3(0)"
      ]
    },
    {
      "cell_type": "markdown",
      "metadata": {},
      "source": [
        "### Problem 4\n",
        "\n",
        "Write a function `p4` that takes in an array and returns `True` if it uses more than 1,000,000 bytes and `False` otherwise."
      ]
    },
    {
      "cell_type": "code",
      "execution_count": 25,
      "metadata": {},
      "outputs": [],
      "source": [
        "# YOUR CHANGES HERE\n",
        "\n",
        "def p4(a):\n",
        "    if sys.getsizeof(a) > 1_000_000:\n",
        "        return True\n",
        "    else:\n",
        "        return False"
      ]
    },
    {
      "cell_type": "code",
      "execution_count": 26,
      "metadata": {},
      "outputs": [
        {
          "data": {
            "text/plain": [
              "False"
            ]
          },
          "execution_count": 26,
          "metadata": {},
          "output_type": "execute_result"
        }
      ],
      "source": [
        "p4(np.zeros(0))"
      ]
    },
    {
      "cell_type": "code",
      "execution_count": 27,
      "metadata": {},
      "outputs": [
        {
          "data": {
            "text/plain": [
              "False"
            ]
          },
          "execution_count": 27,
          "metadata": {},
          "output_type": "execute_result"
        }
      ],
      "source": [
        "p4(np.zeros(1000))"
      ]
    },
    {
      "cell_type": "code",
      "execution_count": 28,
      "metadata": {},
      "outputs": [
        {
          "data": {
            "text/plain": [
              "False"
            ]
          },
          "execution_count": 28,
          "metadata": {},
          "output_type": "execute_result"
        }
      ],
      "source": [
        "p4(np.zeros(100000))"
      ]
    },
    {
      "cell_type": "code",
      "execution_count": 29,
      "metadata": {},
      "outputs": [
        {
          "data": {
            "text/plain": [
              "True"
            ]
          },
          "execution_count": 29,
          "metadata": {},
          "output_type": "execute_result"
        }
      ],
      "source": [
        "p4(np.zeros(1000000))"
      ]
    },
    {
      "cell_type": "markdown",
      "metadata": {},
      "source": [
        "### Problem 5\n",
        "\n",
        "For charts based on known functions, it is often convenient to generate a variable containing evenly spaced x values to plot.\n",
        "Set `p5` to be 100 evenly spaced values starting at zero and ending at ten."
      ]
    },
    {
      "cell_type": "code",
      "execution_count": 42,
      "metadata": {},
      "outputs": [],
      "source": [
        "# YOUR CHANGES HERE\n",
        "\n",
        "p5 = np.linspace(0, 10, 100)"
      ]
    },
    {
      "cell_type": "code",
      "execution_count": 44,
      "metadata": {},
      "outputs": [
        {
          "data": {
            "text/plain": [
              "array([ 0.        ,  0.1010101 ,  0.2020202 ,  0.3030303 ,  0.4040404 ,\n",
              "        0.50505051,  0.60606061,  0.70707071,  0.80808081,  0.90909091,\n",
              "        1.01010101,  1.11111111,  1.21212121,  1.31313131,  1.41414141,\n",
              "        1.51515152,  1.61616162,  1.71717172,  1.81818182,  1.91919192,\n",
              "        2.02020202,  2.12121212,  2.22222222,  2.32323232,  2.42424242,\n",
              "        2.52525253,  2.62626263,  2.72727273,  2.82828283,  2.92929293,\n",
              "        3.03030303,  3.13131313,  3.23232323,  3.33333333,  3.43434343,\n",
              "        3.53535354,  3.63636364,  3.73737374,  3.83838384,  3.93939394,\n",
              "        4.04040404,  4.14141414,  4.24242424,  4.34343434,  4.44444444,\n",
              "        4.54545455,  4.64646465,  4.74747475,  4.84848485,  4.94949495,\n",
              "        5.05050505,  5.15151515,  5.25252525,  5.35353535,  5.45454545,\n",
              "        5.55555556,  5.65656566,  5.75757576,  5.85858586,  5.95959596,\n",
              "        6.06060606,  6.16161616,  6.26262626,  6.36363636,  6.46464646,\n",
              "        6.56565657,  6.66666667,  6.76767677,  6.86868687,  6.96969697,\n",
              "        7.07070707,  7.17171717,  7.27272727,  7.37373737,  7.47474747,\n",
              "        7.57575758,  7.67676768,  7.77777778,  7.87878788,  7.97979798,\n",
              "        8.08080808,  8.18181818,  8.28282828,  8.38383838,  8.48484848,\n",
              "        8.58585859,  8.68686869,  8.78787879,  8.88888889,  8.98989899,\n",
              "        9.09090909,  9.19191919,  9.29292929,  9.39393939,  9.49494949,\n",
              "        9.5959596 ,  9.6969697 ,  9.7979798 ,  9.8989899 , 10.        ])"
            ]
          },
          "execution_count": 44,
          "metadata": {},
          "output_type": "execute_result"
        }
      ],
      "source": [
        "p5"
      ]
    },
    {
      "cell_type": "markdown",
      "metadata": {
        "id": "9lmv_gdvTd4_"
      },
      "source": [
        "### Problem 6\n",
        "\n",
        "Write a function `p6` that takes in two arrays, one with shape $n \\times k$ and one with shape $k$, multiplies them together element-wise using broadcasting, then sums them along the second axis to get an array of shape $n$. Return that array.\n",
        "\n",
        "This is one way to evaluate a linear model for multiple inputs.\n",
        "Matrix multiplication will give a more concise way to do this."
      ]
    },
    {
      "cell_type": "code",
      "execution_count": 284,
      "metadata": {
        "id": "8DvVSivyTjil"
      },
      "outputs": [],
      "source": [
        "# YOUR CHANGES HERE\n",
        "\n",
        "def p6(x, y):\n",
        "    products = x * y\n",
        "    return np.sum(products, axis=1)"
      ]
    },
    {
      "cell_type": "code",
      "execution_count": 285,
      "metadata": {},
      "outputs": [
        {
          "data": {
            "text/plain": [
              "array([[1, 2, 3],\n",
              "       [4, 5, 6]])"
            ]
          },
          "execution_count": 285,
          "metadata": {},
          "output_type": "execute_result"
        }
      ],
      "source": [
        "p6_test_x = np.array([[1, 2, 3], [4, 5, 6]])\n",
        "p6_test_x"
      ]
    },
    {
      "cell_type": "code",
      "execution_count": 286,
      "metadata": {},
      "outputs": [
        {
          "data": {
            "text/plain": [
              "(2, 3)"
            ]
          },
          "execution_count": 286,
          "metadata": {},
          "output_type": "execute_result"
        }
      ],
      "source": [
        "p6_test_x.shape"
      ]
    },
    {
      "cell_type": "code",
      "execution_count": 276,
      "metadata": {},
      "outputs": [
        {
          "data": {
            "text/plain": [
              "array([3, 5, 7])"
            ]
          },
          "execution_count": 276,
          "metadata": {},
          "output_type": "execute_result"
        }
      ],
      "source": [
        "p6_test_y = np.array([3, 5, 7])\n",
        "p6_test_y"
      ]
    },
    {
      "cell_type": "code",
      "execution_count": 270,
      "metadata": {},
      "outputs": [
        {
          "data": {
            "text/plain": [
              "(3,)"
            ]
          },
          "execution_count": 270,
          "metadata": {},
          "output_type": "execute_result"
        }
      ],
      "source": [
        "p6_test_y.shape"
      ]
    },
    {
      "cell_type": "code",
      "execution_count": 287,
      "metadata": {},
      "outputs": [
        {
          "data": {
            "text/plain": [
              "array([34, 79])"
            ]
          },
          "execution_count": 287,
          "metadata": {},
          "output_type": "execute_result"
        }
      ],
      "source": [
        "p6(p6_test_x, p6_test_y)"
      ]
    },
    {
      "cell_type": "markdown",
      "metadata": {
        "id": "0TMi-vnqWtGl"
      },
      "source": [
        "### Problem 7\n",
        "\n",
        "Write a function `p7` that takes in a 1-dimensional array of values $z_i$, and returns an array composed of $\\frac{e^{z_i}}{\\sum e^{z_i}}$.\n",
        "The output array shape should be the same as the input array shape.\n",
        "\n",
        "This formula is the [softmax](https://en.wikipedia.org/wiki/Softmax_function) formula used to adjust raw machine learning outputs into more suitable probability estimates."
      ]
    },
    {
      "cell_type": "markdown",
      "metadata": {
        "id": "bGXb-L8wW0Zt"
      },
      "source": [
        "Hint: Use `numpy.exp`.\n"
      ]
    },
    {
      "cell_type": "code",
      "execution_count": 59,
      "metadata": {
        "id": "3LFxpWahW0ye"
      },
      "outputs": [],
      "source": [
        "# YOUR CHANGES HERE\n",
        "\n",
        "def p7(z):\n",
        "    e_exp = math.e ** z\n",
        "    return e_exp / np.sum(e_exp, keepdims=True)"
      ]
    },
    {
      "cell_type": "code",
      "execution_count": 60,
      "metadata": {},
      "outputs": [
        {
          "data": {
            "text/plain": [
              "array([0.33333333, 0.33333333, 0.33333333])"
            ]
          },
          "execution_count": 60,
          "metadata": {},
          "output_type": "execute_result"
        }
      ],
      "source": [
        "p7(np.array([1, 1, 1]))"
      ]
    },
    {
      "cell_type": "code",
      "execution_count": 61,
      "metadata": {},
      "outputs": [
        {
          "data": {
            "text/plain": [
              "array([0.09003057, 0.24472847, 0.66524096])"
            ]
          },
          "execution_count": 61,
          "metadata": {},
          "output_type": "execute_result"
        }
      ],
      "source": [
        "p7(np.array([-1, 0, 1]))"
      ]
    },
    {
      "cell_type": "code",
      "execution_count": 62,
      "metadata": {},
      "outputs": [
        {
          "data": {
            "text/plain": [
              "array([4.53978680e-05, 1.52292881e-08, 9.99954587e-01])"
            ]
          },
          "execution_count": 62,
          "metadata": {},
          "output_type": "execute_result"
        }
      ],
      "source": [
        "p7(np.array([-1, -9, 9]))"
      ]
    },
    {
      "cell_type": "markdown",
      "metadata": {
        "id": "Nm_PwbU3W1Gi"
      },
      "source": [
        "This function is known as the softmax function, and is used to create a probability distribution biased towards the highest value."
      ]
    },
    {
      "cell_type": "markdown",
      "metadata": {
        "id": "kZY57V-IY_Bu"
      },
      "source": [
        "### Problem 8\n",
        "\n",
        "Write a function `p8` that takes in a 2-dimensional array and repeats the softmax calculation of problem 7 on a row-by-row basis.\n",
        "That is, the output should be the same as if you split the input array into rows, applied the softmax formula to each row individually, and then recombined the rows again.\n",
        "This calculation can be done much more concisely using Numpy without splitting the data into rows.\n",
        "The output array shape should be the same as the input array shape."
      ]
    },
    {
      "cell_type": "markdown",
      "metadata": {
        "id": "ZT2Ni5H5ZDfN"
      },
      "source": [
        "Hint: Use the axis parameter with the sum.\n"
      ]
    },
    {
      "cell_type": "code",
      "execution_count": null,
      "metadata": {
        "id": "cRxzzoUbZI0y"
      },
      "outputs": [],
      "source": [
        "# YOUR CHANGES HERE\n",
        "def p8(z):\n",
        "    e_exp = math.e ** z\n",
        "    return e_exp / np.sum(e_exp, keepdims=True, axis=1)"
      ]
    },
    {
      "cell_type": "code",
      "execution_count": 80,
      "metadata": {},
      "outputs": [
        {
          "data": {
            "text/plain": [
              "array([[3.33333333e-01, 3.33333333e-01, 3.33333333e-01],\n",
              "       [9.00305732e-02, 2.44728471e-01, 6.65240956e-01],\n",
              "       [4.53978680e-05, 1.52292881e-08, 9.99954587e-01]])"
            ]
          },
          "execution_count": 80,
          "metadata": {},
          "output_type": "execute_result"
        }
      ],
      "source": [
        "# this test input has the p7 test inputs as rows, so you should be able to compare\n",
        "# the output here with your p7 test output.\n",
        "\n",
        "p8(np.array([[1, 1, 1], [-1, 0, 1], [-1, -9, 9]]))"
      ]
    },
    {
      "cell_type": "markdown",
      "metadata": {
        "id": "Gm1g8wXhZMO-"
      },
      "source": [
        "### Problem 9\n",
        "\n",
        "Write a function `p9` that takes in the name of a TSV file, reads an array of numbers from a file, and returns a 1-dimensional array with the average value from each column. You may assume that the file does not have a header."
      ]
    },
    {
      "cell_type": "code",
      "execution_count": 81,
      "metadata": {
        "id": "peDdc6qhZRww"
      },
      "outputs": [],
      "source": [
        "# YOUR CHANGES HERE\n",
        "\n",
        "def p9(filename):\n",
        "    f = np.loadtxt(filename, delimiter='\\t')\n",
        "    return np.mean(f, axis=0)"
      ]
    },
    {
      "cell_type": "code",
      "execution_count": 82,
      "metadata": {},
      "outputs": [
        {
          "data": {
            "text/plain": [
              "array([1.20310652, 0.9898605 , 0.80990354])"
            ]
          },
          "execution_count": 82,
          "metadata": {},
          "output_type": "execute_result"
        }
      ],
      "source": [
        "p9(\"f9.tsv\")"
      ]
    },
    {
      "cell_type": "markdown",
      "metadata": {
        "id": "FyCzzy7sZYLs"
      },
      "source": [
        "### Problem 10\n",
        "\n",
        "Write a function that takes in a NumPy array of any type, and returns an array with the same values with type float32. If the input array already has type float32, return the original array.\n"
      ]
    },
    {
      "cell_type": "code",
      "execution_count": 107,
      "metadata": {
        "id": "X9aEk-ceZbeg"
      },
      "outputs": [],
      "source": [
        "# YOUR CHANGES HERE\n",
        "\n",
        "def p10(x):\n",
        "    return np.asarray(x, dtype='float32')"
      ]
    },
    {
      "cell_type": "code",
      "execution_count": 108,
      "metadata": {},
      "outputs": [
        {
          "data": {
            "text/plain": [
              "array([0., 1., 0.])"
            ]
          },
          "execution_count": 108,
          "metadata": {},
          "output_type": "execute_result"
        }
      ],
      "source": [
        "p10_input_1 = np.array([0.0, 1,0])\n",
        "p10_input_1"
      ]
    },
    {
      "cell_type": "code",
      "execution_count": 104,
      "metadata": {},
      "outputs": [
        {
          "data": {
            "text/plain": [
              "dtype('float64')"
            ]
          },
          "execution_count": 104,
          "metadata": {},
          "output_type": "execute_result"
        }
      ],
      "source": [
        "p10_input_1.dtype"
      ]
    },
    {
      "cell_type": "code",
      "execution_count": 109,
      "metadata": {},
      "outputs": [
        {
          "data": {
            "text/plain": [
              "array([0., 1., 0.], dtype=float32)"
            ]
          },
          "execution_count": 109,
          "metadata": {},
          "output_type": "execute_result"
        }
      ],
      "source": [
        "p10(p10_input_1)"
      ]
    },
    {
      "cell_type": "code",
      "execution_count": 110,
      "metadata": {},
      "outputs": [
        {
          "data": {
            "text/plain": [
              "array([0., 1.], dtype=float32)"
            ]
          },
          "execution_count": 110,
          "metadata": {},
          "output_type": "execute_result"
        }
      ],
      "source": [
        "p10_input_2 = np.array([0.0, 1.0], dtype=\"float32\")\n",
        "p10_input_2"
      ]
    },
    {
      "cell_type": "code",
      "execution_count": 111,
      "metadata": {},
      "outputs": [
        {
          "data": {
            "text/plain": [
              "array([0., 1.], dtype=float32)"
            ]
          },
          "execution_count": 111,
          "metadata": {},
          "output_type": "execute_result"
        }
      ],
      "source": [
        "p10(p10_input_2)"
      ]
    },
    {
      "cell_type": "markdown",
      "metadata": {
        "id": "0amuOt-IZgIL"
      },
      "source": [
        "### Problem 11\n",
        "\n",
        "Write a function `p11` that takes in a 2-dimensional array and returns an array with the cumulative mean calculated along the second axis.\n",
        "So the first row of the output shows the cumulative mean of the first row of the input.\n"
      ]
    },
    {
      "cell_type": "markdown",
      "metadata": {
        "id": "SldA7XS4Zj9g"
      },
      "source": [
        " Hint: Use `numpy.cumsum` and `numpy.arange`."
      ]
    },
    {
      "cell_type": "code",
      "execution_count": 119,
      "metadata": {
        "id": "Ek96f3CsZmkG"
      },
      "outputs": [],
      "source": [
        "# YOUR CHANGES HERE\n",
        "\n",
        "def p11(x):\n",
        "    numerators = np.cumsum(x, axis=1)\n",
        "    denominators = np.arange(1, x.shape[1] + 1)\n",
        "    return numerators / denominators"
      ]
    },
    {
      "cell_type": "code",
      "execution_count": 120,
      "metadata": {},
      "outputs": [
        {
          "data": {
            "text/plain": [
              "array([[0.2 , 0.25, 0.3 ]])"
            ]
          },
          "execution_count": 120,
          "metadata": {},
          "output_type": "execute_result"
        }
      ],
      "source": [
        "p11(np.array([[0.2, 0.3, 0.4]]))"
      ]
    },
    {
      "cell_type": "code",
      "execution_count": 121,
      "metadata": {},
      "outputs": [
        {
          "data": {
            "text/plain": [
              "array([[0.2       , 0.25      , 0.3       ],\n",
              "       [4.        , 3.5       , 2.66666667]])"
            ]
          },
          "execution_count": 121,
          "metadata": {},
          "output_type": "execute_result"
        }
      ],
      "source": [
        "p11(np.array([[0.2, 0.3, 0.4], [4.0, 3.0, 1.0]]))"
      ]
    },
    {
      "cell_type": "markdown",
      "metadata": {
        "id": "C7gMpdohZrpA"
      },
      "source": [
        "### Problem 12\n",
        "\n",
        "Write a function `p12` taking in a 2-dimensional array and returning `True` if each row of the array sums to one (test if it is between 0.999 and 1.001 to account for numerical inaccuracy) or `False` otherwise.\n"
      ]
    },
    {
      "cell_type": "code",
      "execution_count": 147,
      "metadata": {
        "id": "S1-EBiqSZx4L"
      },
      "outputs": [],
      "source": [
        "# YOUR CHANGES HERE\n",
        "\n",
        "def p12(x):\n",
        "    row_sums = np.sum(x, axis=1)\n",
        "    booleans = (row_sums >= 0.999) & (row_sums <= 1.001)\n",
        "        \n",
        "    return np.all(booleans)"
      ]
    },
    {
      "cell_type": "code",
      "execution_count": 148,
      "metadata": {},
      "outputs": [
        {
          "data": {
            "text/plain": [
              "np.True_"
            ]
          },
          "execution_count": 148,
          "metadata": {},
          "output_type": "execute_result"
        }
      ],
      "source": [
        "p12(np.array([[0.0, 1.0], [0.9999, 0.0000]]))"
      ]
    },
    {
      "cell_type": "code",
      "execution_count": 149,
      "metadata": {},
      "outputs": [
        {
          "data": {
            "text/plain": [
              "np.False_"
            ]
          },
          "execution_count": 149,
          "metadata": {},
          "output_type": "execute_result"
        }
      ],
      "source": [
        "p12(np.array([[0.3], [1.0]]))"
      ]
    },
    {
      "cell_type": "markdown",
      "metadata": {
        "id": "ckbPTmWGZxLu"
      },
      "source": [
        "### Problem 13\n",
        "\n",
        "Write a function `p13` taking an $n \\times k$ array and returns a tuple of arrays with the minimum, median, and maximum values of each row. To be clear, the function should return a tuple of three 1-dimensional arrays, each of length $n$.\n"
      ]
    },
    {
      "cell_type": "code",
      "execution_count": null,
      "metadata": {
        "id": "EgMJ7PAcZ4gv"
      },
      "outputs": [],
      "source": [
        "# YOUR CHANGES HERE\n",
        "\n",
        "def p13(x):\n",
        "    minimum = np.min(x, axis=1)\n",
        "    median = np.median(x, axis=1)\n",
        "    maximum = np.max(x, axis=1)\n",
        "    return (minimum, median, maximum)\n",
        "    "
      ]
    },
    {
      "cell_type": "code",
      "execution_count": 155,
      "metadata": {},
      "outputs": [
        {
          "data": {
            "text/plain": [
              "(array([  1,   9, 100]), array([  2.,   9., 900.]), array([  1,   9, 100]))"
            ]
          },
          "execution_count": 155,
          "metadata": {},
          "output_type": "execute_result"
        }
      ],
      "source": [
        "p13(np.array([[1, 2, 3], [9, 9, 9], [1000, 100, 900]]))"
      ]
    },
    {
      "cell_type": "markdown",
      "metadata": {},
      "source": [
        "### Problem 14\n",
        "\n",
        "Write a function `p14` that takes in a two dimensional array and returns the highest row sum."
      ]
    },
    {
      "cell_type": "code",
      "execution_count": 160,
      "metadata": {},
      "outputs": [],
      "source": [
        "# YOUR CHANGES HERE\n",
        "\n",
        "def p14(a):\n",
        "    row_sums = np.sum(a, axis=1)\n",
        "    return np.max(row_sums)"
      ]
    },
    {
      "cell_type": "code",
      "execution_count": 162,
      "metadata": {},
      "outputs": [
        {
          "data": {
            "text/plain": [
              "np.int64(68)"
            ]
          },
          "execution_count": 162,
          "metadata": {},
          "output_type": "execute_result"
        }
      ],
      "source": [
        "# should return 68\n",
        "\n",
        "p14(np.array([[23, 1, 5], [13, 2, 53]]))"
      ]
    },
    {
      "cell_type": "markdown",
      "metadata": {},
      "source": [
        "### Problem 15\n",
        "\n",
        "Write a function `p15` that takes in a number as input, and returns a string like \"The answer is 42.34 elephants.\" where the number in the returned string is the input number with two digits after the decimal point."
      ]
    },
    {
      "cell_type": "code",
      "execution_count": 171,
      "metadata": {},
      "outputs": [],
      "source": [
        "# YOUR CHANGES HERE\n",
        "\n",
        "def p15(v):\n",
        "    return f\"The answer is {v :.2f} elephants.\""
      ]
    },
    {
      "cell_type": "code",
      "execution_count": 172,
      "metadata": {},
      "outputs": [
        {
          "data": {
            "text/plain": [
              "'The answer is 42.34 elephants.'"
            ]
          },
          "execution_count": 172,
          "metadata": {},
          "output_type": "execute_result"
        }
      ],
      "source": [
        "# this should match the example\n",
        "\n",
        "p15(42.341)"
      ]
    },
    {
      "cell_type": "code",
      "execution_count": 173,
      "metadata": {},
      "outputs": [
        {
          "data": {
            "text/plain": [
              "'The answer is 12.35 elephants.'"
            ]
          },
          "execution_count": 173,
          "metadata": {},
          "output_type": "execute_result"
        }
      ],
      "source": [
        "p15(12.345)"
      ]
    },
    {
      "cell_type": "code",
      "execution_count": 174,
      "metadata": {},
      "outputs": [
        {
          "data": {
            "text/plain": [
              "'The answer is 1.10 elephants.'"
            ]
          },
          "execution_count": 174,
          "metadata": {},
          "output_type": "execute_result"
        }
      ],
      "source": [
        "p15(1.1)"
      ]
    },
    {
      "cell_type": "markdown",
      "metadata": {},
      "source": [
        "### Problem 16\n",
        "\n",
        "Using NumPy, you can use functions such as `np.zeros`, `np.ones`, or `np.full` to create an array where all the contained values are initialized to the same number.\n",
        "\n",
        "Write a function `p16` taking in a two dimensional array, and returning a tuple `(x, y, v)` that could be used to reconstruct the input array using `np.full`, or `None` if the array cannot be created with a call to `np.full`.\n",
        "Note that the requested tuple is not exactly the arguments to `np.full`."
      ]
    },
    {
      "cell_type": "markdown",
      "metadata": {},
      "source": [
        "Hint: make sure to check that all the values in the input are the same."
      ]
    },
    {
      "cell_type": "code",
      "execution_count": 221,
      "metadata": {},
      "outputs": [],
      "source": [
        "# YOUR CHANGES HERE\n",
        "\n",
        "def p16(a):\n",
        "    if np.all(a == a[0][0]):\n",
        "        return (a.shape[0], a.shape[1], a[0][0]) \n",
        "    else:\n",
        "        return None"
      ]
    },
    {
      "cell_type": "code",
      "execution_count": 222,
      "metadata": {},
      "outputs": [
        {
          "data": {
            "text/plain": [
              "(1, 1, np.int64(0))"
            ]
          },
          "execution_count": 222,
          "metadata": {},
          "output_type": "execute_result"
        }
      ],
      "source": [
        "p16(np.array([[0]]))"
      ]
    },
    {
      "cell_type": "code",
      "execution_count": 218,
      "metadata": {},
      "outputs": [],
      "source": [
        "p16(np.array([[0, 1]]))"
      ]
    },
    {
      "cell_type": "code",
      "execution_count": 219,
      "metadata": {},
      "outputs": [
        {
          "data": {
            "text/plain": [
              "(2, 1, np.int64(3))"
            ]
          },
          "execution_count": 219,
          "metadata": {},
          "output_type": "execute_result"
        }
      ],
      "source": [
        "p16(np.array([[3], [3]]))"
      ]
    },
    {
      "cell_type": "code",
      "execution_count": 220,
      "metadata": {},
      "outputs": [
        {
          "data": {
            "text/plain": [
              "(4, 3, np.int64(4))"
            ]
          },
          "execution_count": 220,
          "metadata": {},
          "output_type": "execute_result"
        }
      ],
      "source": [
        "p16(np.array([[4, 4, 4], [4, 4, 4], [4, 4, 4], [4, 4, 4]]))"
      ]
    },
    {
      "cell_type": "markdown",
      "metadata": {},
      "source": [
        "### Problem 17\n",
        "\n",
        "[Kakuro](https://en.wikipedia.org/wiki/Kakuro) is a logic puzzle where the goal is to fill in numbers so that the rows and columns add up to specified numbers.\n",
        "Write a function `p17` that checks if a given 2 dimensional array is a solution for the given row and column sum constraints and returns `True` if the are satisfied and `False` otherwise.\n",
        "\n",
        "(This is a simplified version of the game limiting the filled cells to rectangle shapes, and does not include the duplicate check.)"
      ]
    },
    {
      "cell_type": "code",
      "execution_count": 231,
      "metadata": {},
      "outputs": [],
      "source": [
        "# YOUR CHANGES HERE\n",
        "\n",
        "def p17(a, row_sums, column_sums):\n",
        "    row_check = np.sum(a, axis=1) == np.asarray(row_sums)\n",
        "    column_check = np.sum(a, axis=0) == np.asarray(column_sums)\n",
        "    if np.all(row_check) and np.all(column_check):\n",
        "        return True\n",
        "    return False"
      ]
    },
    {
      "cell_type": "code",
      "execution_count": 232,
      "metadata": {},
      "outputs": [
        {
          "data": {
            "text/plain": [
              "True"
            ]
          },
          "execution_count": 232,
          "metadata": {},
          "output_type": "execute_result"
        }
      ],
      "source": [
        "# this should return True\n",
        "\n",
        "p17(np.array([[0, 1, 2], [3, 4, 5]]), [3, 12], [3, 5, 7])"
      ]
    },
    {
      "cell_type": "code",
      "execution_count": 233,
      "metadata": {},
      "outputs": [
        {
          "data": {
            "text/plain": [
              "False"
            ]
          },
          "execution_count": 233,
          "metadata": {},
          "output_type": "execute_result"
        }
      ],
      "source": [
        "# this should return False\n",
        "\n",
        "p17(np.array([[0, 2, 4], [3, 4, 5]]), [3, 12], [3, 5, 7])"
      ]
    },
    {
      "cell_type": "markdown",
      "metadata": {},
      "source": [
        "### Problem 18\n",
        "\n",
        "The function `p18` below is supposed to compute the dot product between two 1-dimensional arrays given as input.\n",
        "The dot product is supposed to be calculated by multiplying corresponding values between the two arrays, and summing up those products.\n",
        "The definition of `p18` below is incomplete.\n",
        "Fix `p18` to correctly calculate the dot product."
      ]
    },
    {
      "cell_type": "code",
      "execution_count": 236,
      "metadata": {},
      "outputs": [],
      "source": [
        "# YOUR CHANGES HERE\n",
        "\n",
        "def p18(a, b):\n",
        "    return np.sum(a * b)"
      ]
    },
    {
      "cell_type": "code",
      "execution_count": 238,
      "metadata": {},
      "outputs": [
        {
          "data": {
            "text/plain": [
              "np.int64(93)"
            ]
          },
          "execution_count": 238,
          "metadata": {},
          "output_type": "execute_result"
        }
      ],
      "source": [
        "# should return 1*4 + 5*7 + 9*6 = 93\n",
        "\n",
        "p18(np.array([1, 5, 9]), np.array([4, 7, 6]))"
      ]
    },
    {
      "cell_type": "markdown",
      "metadata": {},
      "source": [
        "### Problem 19\n",
        "\n",
        "Write a function `p19` that takes in a list of arrays as input, and returns the largest one (counting elements).\n",
        "If there is more than one with the maximum number of elements, the tie may be broken arbitrarily."
      ]
    },
    {
      "cell_type": "code",
      "execution_count": null,
      "metadata": {},
      "outputs": [],
      "source": [
        "# YOUR CHANGES HERE\n",
        "\n",
        "def p19(array_list):\n",
        "    return max(array_list, key=len)"
      ]
    },
    {
      "cell_type": "code",
      "execution_count": 260,
      "metadata": {},
      "outputs": [
        {
          "data": {
            "text/plain": [
              "array([ 0,  1,  2,  3,  4,  5,  6,  7,  8,  9, 10, 11, 12, 13, 14, 15, 16,\n",
              "       17, 18, 19])"
            ]
          },
          "execution_count": 260,
          "metadata": {},
          "output_type": "execute_result"
        }
      ],
      "source": [
        "p19([np.zeros(1), np.ones((2, 2)), np.arange(20)])"
      ]
    },
    {
      "cell_type": "markdown",
      "metadata": {},
      "source": [
        "### Problem 20\n",
        "\n",
        "Write a function `p20` that takes in an $n \\times 1$ array and an $1 \\times m$ array as input, and returns `True` if any sum of a value in the first array with a value in the second array is 100 and `False` otherwise."
      ]
    },
    {
      "cell_type": "markdown",
      "metadata": {},
      "source": [
        "Hint: use broadcasting."
      ]
    },
    {
      "cell_type": "code",
      "execution_count": null,
      "metadata": {},
      "outputs": [],
      "source": [
        "# YOUR CHANGES HERE\n",
        "\n",
        "def p20(a, b):\n",
        "    sums = a + b\n",
        "    return np.any(sums == 100)\n",
        "\n",
        "'''\n",
        "gen AI conversation https://g.co/gemini/share/7b253587490a\n",
        "'''"
      ]
    },
    {
      "cell_type": "code",
      "execution_count": 264,
      "metadata": {},
      "outputs": [
        {
          "data": {
            "text/plain": [
              "np.True_"
            ]
          },
          "execution_count": 264,
          "metadata": {},
          "output_type": "execute_result"
        }
      ],
      "source": [
        "# this should return True\n",
        "\n",
        "p20(np.array([[20], [40], [50]]), np.array([50, 10, 30]))"
      ]
    },
    {
      "cell_type": "code",
      "execution_count": null,
      "metadata": {},
      "outputs": [
        {
          "data": {
            "text/plain": [
              "np.False_"
            ]
          },
          "execution_count": 265,
          "metadata": {},
          "output_type": "execute_result"
        }
      ],
      "source": [
        "# this should return False\n",
        "\n",
        "p20(np.array([[20], [40], [50]]), np.array([40, 10, 30]))\n",
        "\n"
      ]
    }
  ],
  "metadata": {
    "colab": {
      "toc_visible": false
    },
    "kernelspec": {
      "display_name": "Python 3",
      "name": "python3"
    },
    "language_info": {
      "codemirror_mode": {
        "name": "ipython",
        "version": 3
      },
      "file_extension": ".py",
      "mimetype": "text/x-python",
      "name": "python",
      "nbconvert_exporter": "python",
      "pygments_lexer": "ipython3",
      "version": "3.9.6"
    }
  },
  "nbformat": 4,
  "nbformat_minor": 0
}
